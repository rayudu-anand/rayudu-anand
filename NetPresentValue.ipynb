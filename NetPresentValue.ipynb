{
 "cells": [
  {
   "cell_type": "markdown",
   "id": "115702d4",
   "metadata": {},
   "source": [
    "\n",
    "<h3>\n",
    "What is Net Present Value? <br>\n",
    "\n",
    "Net Present Value (NPV) is the difference between the present value of cash inflows and the present value of cash\n",
    "outflows over a period of time.   <br>\n",
    "    \n",
    "Calculating Net Present Value involves calculating the cash flows for each period of the investment or project, \n",
    "discounting them to present value, and subtracting the initial investment from the sum of the project’s discounted\n",
    "cash flows. \n",
    "    \n",
    "Net Present Value is used to determine whether or not an investment, project, or business will be profitable down the line. Essentially, the NPV of an investment is the sum of all future cash flows over the investment's lifetime, discounted to the present value  \n",
    "</h3>\n",
    " \n",
    "    \n"
   ]
  },
  {
   "cell_type": "markdown",
   "id": "c96ccd81",
   "metadata": {},
   "source": [
    "<h4>\n",
    "    \n",
    "Let us calculate NPV for an investment with a single cash flow.\n",
    "\n",
    "Assuming that we have invested Rs.2000 in a project and at the end of one year we are getting a cash inflow 2200 <br>\n",
    "with applicable discount or risk-free interest rate being a) 10%, b) 8%\n",
    "    \n",
    "Period 0,  2000 (outflow) <br>\n",
    "Period 1,  2200 (inflow)  <br>\n",
    "   \n",
    "We can derive the NPV for the above.  <br>\n",
    "\n",
    "Note : The risk-free interest rate represents the interest an investor would expect from an absolutely risk-free investment over a specified period of time. Example : government securities.\n",
    "    \n",
    "    \n",
    "</h4>"
   ]
  },
  {
   "cell_type": "code",
   "execution_count": 13,
   "id": "b363cefd",
   "metadata": {},
   "outputs": [
    {
     "data": {
      "text/plain": [
       "1100.0"
      ]
     },
     "execution_count": 13,
     "metadata": {},
     "output_type": "execute_result"
    }
   ],
   "source": [
    "1000*1.1"
   ]
  },
  {
   "cell_type": "code",
   "execution_count": null,
   "id": "b14f407f",
   "metadata": {},
   "outputs": [],
   "source": [
    "#present value  :  1000 \n",
    "#future value   :  1100"
   ]
  },
  {
   "cell_type": "code",
   "execution_count": 15,
   "id": "f1ea3fc1",
   "metadata": {},
   "outputs": [
    {
     "data": {
      "text/plain": [
       "1000.0"
      ]
     },
     "execution_count": 15,
     "metadata": {},
     "output_type": "execute_result"
    }
   ],
   "source": [
    "round(1100/1.1,2)"
   ]
  },
  {
   "cell_type": "code",
   "execution_count": null,
   "id": "0b76d4b2",
   "metadata": {},
   "outputs": [],
   "source": [
    "#future value  : 1100\n",
    "#present value : 1000"
   ]
  },
  {
   "cell_type": "code",
   "execution_count": 17,
   "id": "b72360c0",
   "metadata": {},
   "outputs": [
    {
     "data": {
      "text/plain": [
       "2000.0"
      ]
     },
     "execution_count": 17,
     "metadata": {},
     "output_type": "execute_result"
    }
   ],
   "source": [
    "round(2200/1.1,2)"
   ]
  },
  {
   "cell_type": "code",
   "execution_count": 18,
   "id": "2ba2a636",
   "metadata": {},
   "outputs": [
    {
     "data": {
      "text/plain": [
       "2037.04"
      ]
     },
     "execution_count": 18,
     "metadata": {},
     "output_type": "execute_result"
    }
   ],
   "source": [
    "round(2200/1.08,2)"
   ]
  },
  {
   "cell_type": "code",
   "execution_count": 19,
   "id": "efb4de66",
   "metadata": {},
   "outputs": [
    {
     "data": {
      "text/plain": [
       "2160.0"
      ]
     },
     "execution_count": 19,
     "metadata": {},
     "output_type": "execute_result"
    }
   ],
   "source": [
    "2000*1.08"
   ]
  },
  {
   "cell_type": "code",
   "execution_count": null,
   "id": "38b9fb67",
   "metadata": {},
   "outputs": [],
   "source": []
  },
  {
   "cell_type": "code",
   "execution_count": null,
   "id": "b3690053",
   "metadata": {},
   "outputs": [],
   "source": []
  },
  {
   "cell_type": "markdown",
   "id": "3064fa28",
   "metadata": {},
   "source": [
    "<h3>\n",
    "Formula A\n",
    "</h3>"
   ]
  },
  {
   "attachments": {
    "npv.png": {
     "image/png": "[encoded data removed]"
    }
   },
   "cell_type": "markdown",
   "id": "884232cd",
   "metadata": {},
   "source": [
    "![npv.png](attachment:npv.png)\n"
   ]
  },
  {
   "cell_type": "code",
   "execution_count": 38,
   "id": "f8cdae93",
   "metadata": {},
   "outputs": [
    {
     "name": "stdout",
     "output_type": "stream",
     "text": [
      "-0.0\n"
     ]
    }
   ],
   "source": [
    "NPV = -2000/(1+.10)**0 + 2200/(1+.10)**1\n",
    "print(round(NPV, 2))"
   ]
  },
  {
   "cell_type": "code",
   "execution_count": 22,
   "id": "e7874244",
   "metadata": {},
   "outputs": [
    {
     "data": {
      "text/plain": [
       "-2000.0"
      ]
     },
     "execution_count": 22,
     "metadata": {},
     "output_type": "execute_result"
    }
   ],
   "source": [
    "-2000/(1+.1)**0  # -2000"
   ]
  },
  {
   "cell_type": "code",
   "execution_count": 24,
   "id": "622079e7",
   "metadata": {},
   "outputs": [
    {
     "data": {
      "text/plain": [
       "2000.0"
      ]
     },
     "execution_count": 24,
     "metadata": {},
     "output_type": "execute_result"
    }
   ],
   "source": [
    "round(2200/(1+.1)**1,2)"
   ]
  },
  {
   "cell_type": "code",
   "execution_count": 25,
   "id": "af6d797e",
   "metadata": {},
   "outputs": [
    {
     "name": "stdout",
     "output_type": "stream",
     "text": [
      "37.04\n"
     ]
    }
   ],
   "source": [
    "NPV = -2000/(1+.08)**0 + 2200/(1+.08)**1\n",
    "print(round(NPV, 2))"
   ]
  },
  {
   "cell_type": "markdown",
   "id": "00a66d5a",
   "metadata": {},
   "source": [
    "<h3>\n",
    "Formula B\n",
    "</h3>"
   ]
  },
  {
   "attachments": {
    "npv1.png": {
     "image/png": "[encoded data removed]"
    }
   },
   "cell_type": "markdown",
   "id": "8b60430a",
   "metadata": {},
   "source": [
    "![npv1.png](attachment:npv1.png)"
   ]
  },
  {
   "cell_type": "code",
   "execution_count": 26,
   "id": "514773f9",
   "metadata": {},
   "outputs": [
    {
     "name": "stdout",
     "output_type": "stream",
     "text": [
      "-0.0\n"
     ]
    }
   ],
   "source": [
    "#or alternatively, we can calculate it like this :\n",
    "    \n",
    "present_value = 2200/(1+.10)**1\n",
    "NPV = present_value - 2000\n",
    "print(round(NPV,2))\n"
   ]
  },
  {
   "cell_type": "code",
   "execution_count": 27,
   "id": "9c7b486b",
   "metadata": {},
   "outputs": [
    {
     "name": "stdout",
     "output_type": "stream",
     "text": [
      "37.04\n"
     ]
    }
   ],
   "source": [
    "present_value = 2200/(1+.08)**1\n",
    "NPV = present_value - 2000\n",
    "print(round(NPV,2))"
   ]
  },
  {
   "cell_type": "code",
   "execution_count": null,
   "id": "a68c0e42",
   "metadata": {},
   "outputs": [],
   "source": [
    "# Let us consider multiple cash inflows now."
   ]
  },
  {
   "cell_type": "code",
   "execution_count": 144,
   "id": "b31d93a8",
   "metadata": {},
   "outputs": [],
   "source": [
    "period   = [0,1,2,3]\n",
    "cashflow = [-2000, 1000, 800, 1100]"
   ]
  },
  {
   "cell_type": "code",
   "execution_count": 29,
   "id": "77646c0c",
   "metadata": {},
   "outputs": [
    {
     "data": {
      "text/plain": [
       "485.01244728953895"
      ]
     },
     "execution_count": 29,
     "metadata": {},
     "output_type": "execute_result"
    }
   ],
   "source": [
    "# Formula A:\n",
    "\n",
    "-2000/(1+.08)**0 + 1000/(1+.08)**1 + 800/(1+.08)**2 + 1100/(1+.08)**3"
   ]
  },
  {
   "cell_type": "code",
   "execution_count": 31,
   "id": "aa4c1ed5",
   "metadata": {},
   "outputs": [
    {
     "data": {
      "text/plain": [
       "-124.79999999999995"
      ]
     },
     "execution_count": 31,
     "metadata": {},
     "output_type": "execute_result"
    }
   ],
   "source": [
    "-2000/(1+.25)**0 + 1000/(1+.25)**1 + 800/(1+.25)**2 + 1100/(1+.25)**3"
   ]
  },
  {
   "cell_type": "code",
   "execution_count": null,
   "id": "879588ac",
   "metadata": {},
   "outputs": [],
   "source": []
  },
  {
   "cell_type": "code",
   "execution_count": 32,
   "id": "d20cb51c",
   "metadata": {},
   "outputs": [
    {
     "data": {
      "text/plain": [
       "485.0124472895386"
      ]
     },
     "execution_count": 32,
     "metadata": {},
     "output_type": "execute_result"
    }
   ],
   "source": [
    "# Formula B :\n",
    "\n",
    "1000/(1+.08)**1 + 800/(1+.08)**2 + 1100/(1+.08)**3 - 2000"
   ]
  },
  {
   "cell_type": "code",
   "execution_count": 33,
   "id": "ce1f4468",
   "metadata": {},
   "outputs": [
    {
     "data": {
      "text/plain": [
       "-124.79999999999995"
      ]
     },
     "execution_count": 33,
     "metadata": {},
     "output_type": "execute_result"
    }
   ],
   "source": [
    "1000/(1+.25)**1 + 800/(1+.25)**2 + 1100/(1+.25)**3 - 2000"
   ]
  },
  {
   "cell_type": "code",
   "execution_count": null,
   "id": "7d632a46",
   "metadata": {},
   "outputs": [],
   "source": [
    "#Now let us use list comprehension "
   ]
  },
  {
   "cell_type": "code",
   "execution_count": 37,
   "id": "db8984e7",
   "metadata": {},
   "outputs": [
    {
     "name": "stdout",
     "output_type": "stream",
     "text": [
      "485.01244728953895\n"
     ]
    }
   ],
   "source": [
    "period   = [0,1,2,3]\n",
    "cashflow = [-2000, 1000, 800, 1100]\n",
    "rate     = .08\n",
    "returns  = [cf/(1+rate)**p for p, cf in list(zip(period, cashflow))]\n",
    "print(sum(returns))"
   ]
  },
  {
   "cell_type": "code",
   "execution_count": 51,
   "id": "8e9cff09",
   "metadata": {},
   "outputs": [
    {
     "name": "stdout",
     "output_type": "stream",
     "text": [
      "485.0124472895386\n"
     ]
    }
   ],
   "source": [
    "period   = [1,2,3]\n",
    "outflow = -2000\n",
    "inflow = [1000, 800, 1100]\n",
    "rate     = .08\n",
    "returns  = [cf/(1+rate)**p for p, cf in list(zip(period, inflow))]\n",
    "print(sum(returns) + outflow)"
   ]
  }
 ],
 "metadata": {
  "kernelspec": {
   "display_name": "Python 3 (ipykernel)",
   "language": "python",
   "name": "python3"
  },
  "language_info": {
   "codemirror_mode": {
    "name": "ipython",
    "version": 3
   },
   "file_extension": ".py",
   "mimetype": "text/x-python",
   "name": "python",
   "nbconvert_exporter": "python",
   "pygments_lexer": "ipython3",
   "version": "3.10.2"
  }
 },
 "nbformat": 4,
 "nbformat_minor": 5
}
