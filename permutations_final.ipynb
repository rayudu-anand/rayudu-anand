{
 "cells": [
  {
   "cell_type": "code",
   "execution_count": 58,
   "metadata": {},
   "outputs": [
    {
     "name": "stdout",
     "output_type": "stream",
     "text": [
      "12 [['ibm', 'microsoft'], ['ibm', 'apple'], ['ibm', 'amazon'], ['microsoft', 'ibm'], ['microsoft', 'apple'], ['microsoft', 'amazon'], ['apple', 'ibm'], ['apple', 'microsoft'], ['apple', 'amazon'], ['amazon', 'ibm'], ['amazon', 'microsoft'], ['amazon', 'apple']]\n"
     ]
    }
   ],
   "source": [
    "slots = 2\n",
    "a = ['ibm', 'microsoft', 'apple', 'amazon']\n",
    "b = a.copy()\n",
    "ctr = 1\n",
    "while ctr <= slots-1 :\n",
    "    temp = []\n",
    "    index = 0\n",
    "    for i in b :\n",
    "        for j in a :\n",
    "            if type(i) == list :\n",
    "                if j not in i :\n",
    "                    temp.append([])\n",
    "                    for k in i :\n",
    "                        temp[index].append(k)\n",
    "                    temp[index].append(j)\n",
    "                    index = index + 1\n",
    "            else :\n",
    "                if i != j :\n",
    "                    temp.append([i, j])\n",
    "    b = temp.copy()   \n",
    "    ctr = ctr+1\n",
    "print(len(temp), temp)"
   ]
  },
  {
   "cell_type": "code",
   "execution_count": 54,
   "metadata": {},
   "outputs": [
    {
     "name": "stdout",
     "output_type": "stream",
     "text": [
      "4 [['kum', 'anand', 'sri'], ['kum', 'anand', 'aks'], ['kum', 'sri', 'aks'], ['anand', 'sri', 'aks']]\n"
     ]
    }
   ],
   "source": [
    "a = ['kum', 'anand', 'sri', 'aks']\n",
    "b = a.copy()\n",
    "slots = 3\n",
    "ctr = 1\n",
    "while ctr < slots :\n",
    "    collect = []\n",
    "    if ctr == 1 :\n",
    "        for i in a[:-1] :\n",
    "            x = a.index(i)+1\n",
    "            for j in a[x:] :\n",
    "                collect.append([i,j])\n",
    "    else :\n",
    "        for i in range(len(a)) :\n",
    "            index = b.index(a[i][-1])+1\n",
    "            for j in b[index:] :\n",
    "                x = []\n",
    "                for k in a[i] :\n",
    "                    x.append(k)\n",
    "                x.append(j)\n",
    "                collect.append(x)\n",
    "    a = collect.copy()\n",
    "    ctr = ctr + 1 \n",
    "print(len(a), a)"
   ]
  },
  {
   "cell_type": "code",
   "execution_count": null,
   "metadata": {},
   "outputs": [],
   "source": []
  }
 ],
 "metadata": {
  "kernelspec": {
   "display_name": "Python 3",
   "language": "python",
   "name": "python3"
  },
  "language_info": {
   "codemirror_mode": {
    "name": "ipython",
    "version": 3
   },
   "file_extension": ".py",
   "mimetype": "text/x-python",
   "name": "python",
   "nbconvert_exporter": "python",
   "pygments_lexer": "ipython3",
   "version": "3.7.1"
  }
 },
 "nbformat": 4,
 "nbformat_minor": 2
}
