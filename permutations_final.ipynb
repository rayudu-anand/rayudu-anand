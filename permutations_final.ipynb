{
 "cells": [
  {
   "cell_type": "code",
   "execution_count": 69,
   "metadata": {},
   "outputs": [
    {
     "name": "stdout",
     "output_type": "stream",
     "text": [
      "24 [['ibm', 'microsoft', 'apple'], ['ibm', 'microsoft', 'amazon'], ['ibm', 'apple', 'microsoft'], ['ibm', 'apple', 'amazon'], ['ibm', 'amazon', 'microsoft'], ['ibm', 'amazon', 'apple'], ['microsoft', 'ibm', 'apple'], ['microsoft', 'ibm', 'amazon'], ['microsoft', 'apple', 'ibm'], ['microsoft', 'apple', 'amazon'], ['microsoft', 'amazon', 'ibm'], ['microsoft', 'amazon', 'apple'], ['apple', 'ibm', 'microsoft'], ['apple', 'ibm', 'amazon'], ['apple', 'microsoft', 'ibm'], ['apple', 'microsoft', 'amazon'], ['apple', 'amazon', 'ibm'], ['apple', 'amazon', 'microsoft'], ['amazon', 'ibm', 'microsoft'], ['amazon', 'ibm', 'apple'], ['amazon', 'microsoft', 'ibm'], ['amazon', 'microsoft', 'apple'], ['amazon', 'apple', 'ibm'], ['amazon', 'apple', 'microsoft']]\n"
     ]
    }
   ],
   "source": [
    "slots = 3\n",
    "a = ['ibm', 'microsoft', 'apple', 'amazon']\n",
    "b = a.copy()\n",
    "ctr = 1\n",
    "while ctr <= slots-1 :\n",
    "    temp = []\n",
    "    index = 0\n",
    "    for i in b :\n",
    "        for j in a :\n",
    "            if type(i) == list :\n",
    "                if j not in i :\n",
    "                    temp.append([])\n",
    "                    for k in i :\n",
    "                        temp[index].append(k)\n",
    "                    temp[index].append(j)\n",
    "                    index = index + 1\n",
    "            else :\n",
    "                if i != j :\n",
    "                    temp.append([i, j])\n",
    "    b = temp.copy()   \n",
    "    ctr = ctr+1\n",
    "print(len(temp), temp)"
   ]
  },
  {
   "cell_type": "code",
   "execution_count": 71,
   "metadata": {},
   "outputs": [
    {
     "name": "stdout",
     "output_type": "stream",
     "text": [
      "6 [['kum', 'anand'], ['kum', 'sri'], ['kum', 'aks'], ['anand', 'sri'], ['anand', 'aks'], ['sri', 'aks']]\n"
     ]
    }
   ],
   "source": [
    "a = ['kum', 'anand', 'sri', 'aks']\n",
    "b = a.copy()\n",
    "slots = 2\n",
    "ctr = 1\n",
    "while ctr < slots :\n",
    "    collect = []\n",
    "    if ctr == 1 :\n",
    "        for i in a[:-1] :\n",
    "            x = a.index(i)+1\n",
    "            for j in a[x:] :\n",
    "                collect.append([i,j])\n",
    "    else :\n",
    "        for i in range(len(a)) :\n",
    "            index = b.index(a[i][-1])+1\n",
    "            for j in b[index:] :\n",
    "                x = []\n",
    "                for k in a[i] :\n",
    "                    x.append(k)\n",
    "                x.append(j)\n",
    "                collect.append(x)\n",
    "    a = collect.copy()\n",
    "    ctr = ctr + 1 \n",
    "print(len(a), a)"
   ]
  },
  {
   "cell_type": "code",
   "execution_count": 72,
   "metadata": {},
   "outputs": [
    {
     "name": "stdout",
     "output_type": "stream",
     "text": [
      "1 [['kum', 'anand', 'sri']]\n"
     ]
    }
   ],
   "source": [
    "a = ['kum', 'anand','sri']\n",
    "b = a.copy()\n",
    "slots = 3\n",
    "ctr = 1\n",
    "a = [[i] for i in a]\n",
    "while ctr < slots :\n",
    "    collect = []\n",
    "    for i in range(len(a)) :\n",
    "        index = b.index(a[i][-1])+1\n",
    "        for j in b[index:] :\n",
    "            x = []\n",
    "            for k in a[i] :\n",
    "                x.append(k)\n",
    "            x.append(j)\n",
    "            collect.append(x)\n",
    "    a = collect.copy()\n",
    "    ctr = ctr + 1 \n",
    "print(len(a), a)"
   ]
  },
  {
   "cell_type": "code",
   "execution_count": 73,
   "metadata": {},
   "outputs": [
    {
     "name": "stdout",
     "output_type": "stream",
     "text": [
      "24 [['ibm', 'microsoft', 'apple'], ['ibm', 'microsoft', 'amazon'], ['ibm', 'apple', 'microsoft'], ['ibm', 'apple', 'amazon'], ['ibm', 'amazon', 'microsoft'], ['ibm', 'amazon', 'apple'], ['microsoft', 'ibm', 'apple'], ['microsoft', 'ibm', 'amazon'], ['microsoft', 'apple', 'ibm'], ['microsoft', 'apple', 'amazon'], ['microsoft', 'amazon', 'ibm'], ['microsoft', 'amazon', 'apple'], ['apple', 'ibm', 'microsoft'], ['apple', 'ibm', 'amazon'], ['apple', 'microsoft', 'ibm'], ['apple', 'microsoft', 'amazon'], ['apple', 'amazon', 'ibm'], ['apple', 'amazon', 'microsoft'], ['amazon', 'ibm', 'microsoft'], ['amazon', 'ibm', 'apple'], ['amazon', 'microsoft', 'ibm'], ['amazon', 'microsoft', 'apple'], ['amazon', 'apple', 'ibm'], ['amazon', 'apple', 'microsoft']]\n"
     ]
    }
   ],
   "source": [
    "slots = 3\n",
    "a = ['ibm', 'microsoft', 'apple', 'amazon']\n",
    "b = a.copy()\n",
    "ctr = 1\n",
    "b = [[i] for i in b]\n",
    "while ctr <= slots-1 :\n",
    "    temp = []\n",
    "    index = 0\n",
    "    for i in b :\n",
    "        for j in a :\n",
    "            if j not in i :\n",
    "                temp.append([])\n",
    "                for k in i :\n",
    "                    temp[index].append(k)\n",
    "                temp[index].append(j)\n",
    "                index = index + 1\n",
    "    b = temp.copy()   \n",
    "    ctr = ctr+1\n",
    "print(len(temp), temp)"
   ]
  },
  {
   "cell_type": "code",
   "execution_count": null,
   "metadata": {},
   "outputs": [],
   "source": []
  }
 ],
 "metadata": {
  "kernelspec": {
   "display_name": "Python 3",
   "language": "python",
   "name": "python3"
  },
  "language_info": {
   "codemirror_mode": {
    "name": "ipython",
    "version": 3
   },
   "file_extension": ".py",
   "mimetype": "text/x-python",
   "name": "python",
   "nbconvert_exporter": "python",
   "pygments_lexer": "ipython3",
   "version": "3.7.1"
  }
 },
 "nbformat": 4,
 "nbformat_minor": 2
}
